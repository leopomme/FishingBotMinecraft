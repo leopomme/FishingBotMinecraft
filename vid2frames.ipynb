{
 "cells": [
  {
   "cell_type": "code",
   "execution_count": 1,
   "metadata": {},
   "outputs": [],
   "source": [
    "import cv2\n",
    "import os\n"
   ]
  },
  {
   "cell_type": "code",
   "execution_count": 2,
   "metadata": {},
   "outputs": [],
   "source": [
    "\n",
    "# Function to extract frames\n",
    "def video_to_frames(video_file, output_folder, att):\n",
    "    # Ensure the output folder exists\n",
    "    if not os.path.exists(output_folder):\n",
    "        os.makedirs(output_folder)\n",
    "    \n",
    "    # Open the video file\n",
    "    vidcap = cv2.VideoCapture(video_file)\n",
    "    \n",
    "    # Check if the video file opened successfully\n",
    "    if not vidcap.isOpened():\n",
    "        print(\"Error: Could not open video file.\")\n",
    "        return\n",
    "    \n",
    "    # Initialize frame count\n",
    "    count = 0\n",
    "    success = True\n",
    "    \n",
    "    while success:\n",
    "        # Read the next frame\n",
    "        success, image = vidcap.read()\n",
    "        \n",
    "        if success:\n",
    "            # Save the frame as a JPEG file\n",
    "            frame_filename = os.path.join(output_folder, f\"frame_{count:04d}_{att}.jpg\")\n",
    "            cv2.imwrite(frame_filename, image)\n",
    "            count += 1\n",
    "\n",
    "    print(f\"Extracted {count} frames.\")\n",
    "\n",
    "\n"
   ]
  },
  {
   "cell_type": "code",
   "execution_count": 3,
   "metadata": {},
   "outputs": [
    {
     "name": "stdout",
     "output_type": "stream",
     "text": [
      "Extracted 408 frames.\n",
      "Extracted 140 frames.\n",
      "Extracted 491 frames.\n",
      "Extracted 67 frames.\n"
     ]
    }
   ],
   "source": [
    "video_file = 'fish_off.mp4'\n",
    "output_folder = 'frames/off'\n",
    "video_to_frames(video_file, output_folder, 'night')\n",
    "\n",
    "video_file = 'fish_on.mp4'\n",
    "output_folder = 'frames/on'\n",
    "video_to_frames(video_file, output_folder, 'night')\n",
    "\n",
    "video_file = 'fishing_day_off.mp4'\n",
    "output_folder = 'frames/off'\n",
    "video_to_frames(video_file, output_folder, 'day')\n",
    "\n",
    "video_file = 'fishing_day_on.mp4'\n",
    "output_folder = 'frames/on'\n",
    "video_to_frames(video_file, output_folder, 'day')"
   ]
  },
  {
   "cell_type": "code",
   "execution_count": null,
   "metadata": {},
   "outputs": [],
   "source": []
  }
 ],
 "metadata": {
  "kernelspec": {
   "display_name": "Python 3",
   "language": "python",
   "name": "python3"
  },
  "language_info": {
   "codemirror_mode": {
    "name": "ipython",
    "version": 3
   },
   "file_extension": ".py",
   "mimetype": "text/x-python",
   "name": "python",
   "nbconvert_exporter": "python",
   "pygments_lexer": "ipython3",
   "version": "3.8.5"
  }
 },
 "nbformat": 4,
 "nbformat_minor": 2
}
